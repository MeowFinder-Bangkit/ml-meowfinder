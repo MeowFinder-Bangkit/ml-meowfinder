{
  "nbformat": 4,
  "nbformat_minor": 0,
  "metadata": {
    "colab": {
      "provenance": []
    },
    "kernelspec": {
      "name": "python3",
      "display_name": "Python 3"
    },
    "language_info": {
      "name": "python"
    }
  },
  "cells": [
    {
      "cell_type": "code",
      "execution_count": 4,
      "metadata": {
        "colab": {
          "base_uri": "https://localhost:8080/"
        },
        "id": "6DgsDRS-dmTN",
        "outputId": "0a548e91-66a5-4fa1-f358-757936691cae"
      },
      "outputs": [
        {
          "output_type": "stream",
          "name": "stdout",
          "text": [
            "1/1 [==============================] - 1s 1s/step\n",
            "Bengal: 99.94%\n",
            "Domestic Shorthair: 0.04%\n",
            "Maine Coon: 0.00%\n",
            "Ragdoll: 0.00%\n",
            "Siamese: 0.02%\n"
          ]
        }
      ],
      "source": [
        "import tensorflow as tf\n",
        "from tensorflow.keras.preprocessing import image\n",
        "import numpy as np\n",
        "\n",
        "# Memuat Model dari File h5\n",
        "loaded_model = tf.keras.models.load_model('/content/Model_meowfinder.h5')\n",
        "\n",
        "# Fungsi untuk prediksi dengan output persentase\n",
        "def predict_cat(image_path):\n",
        "    img = image.load_img(image_path, target_size=(200, 300))\n",
        "    img_array = image.img_to_array(img)\n",
        "    img_array = np.expand_dims(img_array, axis=0)\n",
        "    img_array /= 255.\n",
        "\n",
        "    predictions = loaded_model.predict(img_array)[0]\n",
        "    class_labels = {'Bengal': 0, 'Domestic Shorthair': 1, 'Maine Coon': 2, 'Ragdoll': 3, 'Siamese': 4}  # Sesuaikan dengan kelas yang digunakan\n",
        "    inv_class_labels = {v: k for k, v in class_labels.items()}\n",
        "\n",
        "    # Menampilkan hasil prediksi dalam bentuk persentase\n",
        "    for label, score in zip(inv_class_labels.values(), predictions):\n",
        "        print(f\"{label}: {score * 100:.2f}%\")\n",
        "\n",
        "# Contoh penggunaan\n",
        "predict_cat('/content/bengal.jpg')\n"
      ]
    },
    {
      "cell_type": "code",
      "source": [
        "import tensorflow as tf\n",
        "from tensorflow.keras.preprocessing import image\n",
        "import numpy as np\n",
        "\n",
        "# Memuat Model dari File h5\n",
        "loaded_model = tf.keras.models.load_model('/content/Model_meowfinder.h5')\n",
        "\n",
        "# Fungsi untuk prediksi dengan output persentase\n",
        "def predict_cat(image_path):\n",
        "    img = image.load_img(image_path, target_size=(200, 300))\n",
        "    img_array = image.img_to_array(img)\n",
        "    img_array = np.expand_dims(img_array, axis=0)\n",
        "    img_array /= 255.\n",
        "\n",
        "    predictions = loaded_model.predict(img_array)[0]\n",
        "    class_labels = {'Bengal': 0, 'Domestic Shorthair': 1, 'Maine Coon': 2, 'Ragdoll': 3, 'Siamese': 4}  # Sesuaikan dengan kelas yang digunakan\n",
        "    inv_class_labels = {v: k for k, v in class_labels.items()}\n",
        "\n",
        "    # Menampilkan hasil prediksi dalam bentuk persentase\n",
        "    for label, score in zip(inv_class_labels.values(), predictions):\n",
        "        print(f\"{label}: {score * 100:.2f}%\")\n",
        "\n",
        "# Contoh penggunaan\n",
        "predict_cat('/content/Domestic Shorthair.jpg')"
      ],
      "metadata": {
        "colab": {
          "base_uri": "https://localhost:8080/"
        },
        "id": "q3X2L1e-iLh_",
        "outputId": "da8f2793-ac7e-4679-f214-b278e82a81a1"
      },
      "execution_count": 8,
      "outputs": [
        {
          "output_type": "stream",
          "name": "stderr",
          "text": [
            "WARNING:tensorflow:5 out of the last 5 calls to <function Model.make_predict_function.<locals>.predict_function at 0x7a982b09d630> triggered tf.function retracing. Tracing is expensive and the excessive number of tracings could be due to (1) creating @tf.function repeatedly in a loop, (2) passing tensors with different shapes, (3) passing Python objects instead of tensors. For (1), please define your @tf.function outside of the loop. For (2), @tf.function has reduce_retracing=True option that can avoid unnecessary retracing. For (3), please refer to https://www.tensorflow.org/guide/function#controlling_retracing and https://www.tensorflow.org/api_docs/python/tf/function for  more details.\n"
          ]
        },
        {
          "output_type": "stream",
          "name": "stdout",
          "text": [
            "1/1 [==============================] - 1s 1s/step\n",
            "Bengal: 0.28%\n",
            "Domestic Shorthair: 98.67%\n",
            "Maine Coon: 0.02%\n",
            "Ragdoll: 0.03%\n",
            "Siamese: 1.00%\n"
          ]
        }
      ]
    },
    {
      "cell_type": "code",
      "source": [
        "import tensorflow as tf\n",
        "from tensorflow.keras.preprocessing import image\n",
        "import numpy as np\n",
        "\n",
        "# Memuat Model dari File h5\n",
        "loaded_model = tf.keras.models.load_model('/content/Model_meowfinder.h5')\n",
        "\n",
        "# Fungsi untuk prediksi dengan output persentase\n",
        "def predict_cat(image_path):\n",
        "    img = image.load_img(image_path, target_size=(200, 300))\n",
        "    img_array = image.img_to_array(img)\n",
        "    img_array = np.expand_dims(img_array, axis=0)\n",
        "    img_array /= 255.\n",
        "\n",
        "    predictions = loaded_model.predict(img_array)[0]\n",
        "    class_labels = {'Bengal': 0, 'Domestic Shorthair': 1, 'Maine Coon': 2, 'Ragdoll': 3, 'Siamese': 4}  # Sesuaikan dengan kelas yang digunakan\n",
        "    inv_class_labels = {v: k for k, v in class_labels.items()}\n",
        "\n",
        "    # Menampilkan hasil prediksi dalam bentuk persentase\n",
        "    for label, score in zip(inv_class_labels.values(), predictions):\n",
        "        print(f\"{label}: {score * 100:.2f}%\")\n",
        "\n",
        "# Contoh penggunaan\n",
        "predict_cat('/content/Maine Coon.jpg')"
      ],
      "metadata": {
        "colab": {
          "base_uri": "https://localhost:8080/"
        },
        "id": "8MZZM6kvi7gx",
        "outputId": "1ba9e5e6-b1a6-4446-887f-e33e072b1ad2"
      },
      "execution_count": 9,
      "outputs": [
        {
          "output_type": "stream",
          "name": "stderr",
          "text": [
            "WARNING:tensorflow:6 out of the last 6 calls to <function Model.make_predict_function.<locals>.predict_function at 0x7a981fcbdfc0> triggered tf.function retracing. Tracing is expensive and the excessive number of tracings could be due to (1) creating @tf.function repeatedly in a loop, (2) passing tensors with different shapes, (3) passing Python objects instead of tensors. For (1), please define your @tf.function outside of the loop. For (2), @tf.function has reduce_retracing=True option that can avoid unnecessary retracing. For (3), please refer to https://www.tensorflow.org/guide/function#controlling_retracing and https://www.tensorflow.org/api_docs/python/tf/function for  more details.\n"
          ]
        },
        {
          "output_type": "stream",
          "name": "stdout",
          "text": [
            "1/1 [==============================] - 1s 1s/step\n",
            "Bengal: 0.70%\n",
            "Domestic Shorthair: 0.93%\n",
            "Maine Coon: 98.05%\n",
            "Ragdoll: 0.20%\n",
            "Siamese: 0.13%\n"
          ]
        }
      ]
    },
    {
      "cell_type": "code",
      "source": [
        "import tensorflow as tf\n",
        "from tensorflow.keras.preprocessing import image\n",
        "import numpy as np\n",
        "\n",
        "# Memuat Model dari File h5\n",
        "loaded_model = tf.keras.models.load_model('/content/Model_meowfinder.h5')\n",
        "\n",
        "# Fungsi untuk prediksi dengan output persentase\n",
        "def predict_cat(image_path):\n",
        "    img = image.load_img(image_path, target_size=(200, 300))\n",
        "    img_array = image.img_to_array(img)\n",
        "    img_array = np.expand_dims(img_array, axis=0)\n",
        "    img_array /= 255.\n",
        "\n",
        "    predictions = loaded_model.predict(img_array)[0]\n",
        "    class_labels = {'Bengal': 0, 'Domestic Shorthair': 1, 'Maine Coon': 2, 'Ragdoll': 3, 'Siamese': 4}  # Sesuaikan dengan kelas yang digunakan\n",
        "    inv_class_labels = {v: k for k, v in class_labels.items()}\n",
        "\n",
        "    # Menampilkan hasil prediksi dalam bentuk persentase\n",
        "    for label, score in zip(inv_class_labels.values(), predictions):\n",
        "        print(f\"{label}: {score * 100:.2f}%\")\n",
        "\n",
        "# Contoh penggunaan\n",
        "predict_cat('/content/Ragdoll')"
      ],
      "metadata": {
        "colab": {
          "base_uri": "https://localhost:8080/"
        },
        "id": "gbsEuAyri5b2",
        "outputId": "8314a802-a2d0-47f9-e852-a0983e18a09e"
      },
      "execution_count": 10,
      "outputs": [
        {
          "output_type": "stream",
          "name": "stdout",
          "text": [
            "1/1 [==============================] - 2s 2s/step\n",
            "Bengal: 1.54%\n",
            "Domestic Shorthair: 4.52%\n",
            "Maine Coon: 4.37%\n",
            "Ragdoll: 80.95%\n",
            "Siamese: 8.63%\n"
          ]
        }
      ]
    },
    {
      "cell_type": "code",
      "source": [
        "import tensorflow as tf\n",
        "from tensorflow.keras.preprocessing import image\n",
        "import numpy as np\n",
        "\n",
        "# Memuat Model dari File h5\n",
        "loaded_model = tf.keras.models.load_model('/content/Model_meowfinder.h5')\n",
        "\n",
        "# Fungsi untuk prediksi dengan output persentase\n",
        "def predict_cat(image_path):\n",
        "    img = image.load_img(image_path, target_size=(200, 300))\n",
        "    img_array = image.img_to_array(img)\n",
        "    img_array = np.expand_dims(img_array, axis=0)\n",
        "    img_array /= 255.\n",
        "\n",
        "    predictions = loaded_model.predict(img_array)[0]\n",
        "    class_labels = {'Bengal': 0, 'Domestic Shorthair': 1, 'Maine Coon': 2, 'Ragdoll': 3, 'Siamese': 4}  # Sesuaikan dengan kelas yang digunakan\n",
        "    inv_class_labels = {v: k for k, v in class_labels.items()}\n",
        "\n",
        "    # Menampilkan hasil prediksi dalam bentuk persentase\n",
        "    for label, score in zip(inv_class_labels.values(), predictions):\n",
        "        print(f\"{label}: {score * 100:.2f}%\")\n",
        "\n",
        "# Contoh penggunaan\n",
        "predict_cat('/content/Siamese.jpg')"
      ],
      "metadata": {
        "colab": {
          "base_uri": "https://localhost:8080/"
        },
        "id": "xiJrWc4mjd_v",
        "outputId": "bcf540c4-ca3c-4267-b37e-7436bb3ceba5"
      },
      "execution_count": 11,
      "outputs": [
        {
          "output_type": "stream",
          "name": "stdout",
          "text": [
            "1/1 [==============================] - 2s 2s/step\n",
            "Bengal: 0.01%\n",
            "Domestic Shorthair: 0.16%\n",
            "Maine Coon: 0.00%\n",
            "Ragdoll: 0.06%\n",
            "Siamese: 99.78%\n"
          ]
        }
      ]
    },
    {
      "cell_type": "code",
      "source": [
        "import tensorflow as tf\n",
        "from tensorflow.keras.preprocessing import image\n",
        "import numpy as np\n",
        "\n",
        "# Memuat Model dari File h5\n",
        "loaded_model = tf.keras.models.load_model('/content/Model_meowfinder.h5')\n",
        "\n",
        "# Fungsi untuk prediksi dengan output persentase\n",
        "def predict_cat(image_path):\n",
        "    img = image.load_img(image_path, target_size=(200, 300))\n",
        "    img_array = image.img_to_array(img)\n",
        "    img_array = np.expand_dims(img_array, axis=0)\n",
        "    img_array /= 255.\n",
        "\n",
        "    predictions = loaded_model.predict(img_array)[0]\n",
        "    class_labels = {'Bengal': 0, 'Domestic Shorthair': 1, 'Maine Coon': 2, 'Ragdoll': 3, 'Siamese': 4}  # Sesuaikan dengan kelas yang digunakan\n",
        "    inv_class_labels = {v: k for k, v in class_labels.items()}\n",
        "\n",
        "    # Menampilkan hasil prediksi dalam bentuk persentase\n",
        "    for label, score in zip(inv_class_labels.values(), predictions):\n",
        "        print(f\"{label}: {score * 100:.2f}%\")\n",
        "\n",
        "# Contoh penggunaan\n",
        "predict_cat('/content/20220222125507-1-kucing-british-shorthair-005-ani-mardatila.jpg')"
      ],
      "metadata": {
        "colab": {
          "base_uri": "https://localhost:8080/"
        },
        "id": "V9iPRBvx6qPJ",
        "outputId": "e38fcb90-bd50-4540-dbc0-7d0ced646de5"
      },
      "execution_count": 13,
      "outputs": [
        {
          "output_type": "stream",
          "name": "stdout",
          "text": [
            "1/1 [==============================] - 1s 1s/step\n",
            "Bengal: 0.92%\n",
            "Domestic Shorthair: 89.36%\n",
            "Maine Coon: 0.59%\n",
            "Ragdoll: 3.11%\n",
            "Siamese: 6.02%\n"
          ]
        }
      ]
    },
    {
      "cell_type": "code",
      "source": [
        "import tensorflow as tf\n",
        "from tensorflow.keras.preprocessing import image\n",
        "import numpy as np\n",
        "\n",
        "# Memuat Model dari File h5\n",
        "loaded_model = tf.keras.models.load_model('/content/Model_meowfinder.h5')\n",
        "\n",
        "# Fungsi untuk prediksi dengan output persentase\n",
        "def predict_cat(image_path):\n",
        "    img = image.load_img(image_path, target_size=(200, 300))\n",
        "    img_array = image.img_to_array(img)\n",
        "    img_array = np.expand_dims(img_array, axis=0)\n",
        "    img_array /= 255.\n",
        "\n",
        "    predictions = loaded_model.predict(img_array)[0]\n",
        "    class_labels = {'Bengal': 0, 'Domestic Shorthair': 1, 'Maine Coon': 2, 'Ragdoll': 3, 'Siamese': 4}  # Sesuaikan dengan kelas yang digunakan\n",
        "    inv_class_labels = {v: k for k, v in class_labels.items()}\n",
        "\n",
        "    # Menampilkan hasil prediksi dalam bentuk persentase\n",
        "    for label, score in zip(inv_class_labels.values(), predictions):\n",
        "        print(f\"{label}: {score * 100:.2f}%\")\n",
        "\n",
        "# Contoh penggunaan\n",
        "predict_cat('/content/Screenshot 2023-12-13 235218.png')"
      ],
      "metadata": {
        "colab": {
          "base_uri": "https://localhost:8080/"
        },
        "id": "1S8Yt8fs6_K6",
        "outputId": "2ddca6cc-0f58-4879-848c-afc3a3301418"
      },
      "execution_count": 14,
      "outputs": [
        {
          "output_type": "stream",
          "name": "stdout",
          "text": [
            "1/1 [==============================] - 1s 1s/step\n",
            "Bengal: 75.16%\n",
            "Domestic Shorthair: 21.56%\n",
            "Maine Coon: 0.22%\n",
            "Ragdoll: 0.09%\n",
            "Siamese: 2.96%\n"
          ]
        }
      ]
    },
    {
      "cell_type": "code",
      "source": [
        "import tensorflow as tf\n",
        "from tensorflow.keras.preprocessing import image\n",
        "import numpy as np\n",
        "\n",
        "# Memuat Model dari File h5\n",
        "loaded_model = tf.keras.models.load_model('/content/Model_meowfinder.h5')\n",
        "\n",
        "# Fungsi untuk prediksi dengan output persentase\n",
        "def predict_cat(image_path):\n",
        "    img = image.load_img(image_path, target_size=(200, 300))\n",
        "    img_array = image.img_to_array(img)\n",
        "    img_array = np.expand_dims(img_array, axis=0)\n",
        "    img_array /= 255.\n",
        "\n",
        "    predictions = loaded_model.predict(img_array)[0]\n",
        "    class_labels = {'Bengal': 0, 'Domestic Shorthair': 1, 'Maine Coon': 2, 'Ragdoll': 3, 'Siamese': 4}  # Sesuaikan dengan kelas yang digunakan\n",
        "    inv_class_labels = {v: k for k, v in class_labels.items()}\n",
        "\n",
        "    # Menampilkan hasil prediksi dalam bentuk persentase\n",
        "    for label, score in zip(inv_class_labels.values(), predictions):\n",
        "        print(f\"{label}: {score * 100:.2f}%\")\n",
        "\n",
        "# Contoh penggunaan\n",
        "predict_cat('/content/Screenshot 2023-12-13 235645.png')"
      ],
      "metadata": {
        "colab": {
          "base_uri": "https://localhost:8080/"
        },
        "id": "GFzaEW8E7ENB",
        "outputId": "dc7123a5-ed13-4212-81cb-1000c107b764"
      },
      "execution_count": 15,
      "outputs": [
        {
          "output_type": "stream",
          "name": "stdout",
          "text": [
            "1/1 [==============================] - 1s 1s/step\n",
            "Bengal: 0.45%\n",
            "Domestic Shorthair: 6.63%\n",
            "Maine Coon: 27.27%\n",
            "Ragdoll: 63.43%\n",
            "Siamese: 2.22%\n"
          ]
        }
      ]
    },
    {
      "cell_type": "code",
      "source": [
        "import tensorflow as tf\n",
        "from tensorflow.keras.preprocessing import image\n",
        "import numpy as np\n",
        "\n",
        "# Memuat Model dari File h5\n",
        "loaded_model = tf.keras.models.load_model('/content/Model_meowfinder.h5')\n",
        "\n",
        "# Fungsi untuk prediksi dengan output persentase\n",
        "def predict_cat(image_path):\n",
        "    img = image.load_img(image_path, target_size=(200, 300))\n",
        "    img_array = image.img_to_array(img)\n",
        "    img_array = np.expand_dims(img_array, axis=0)\n",
        "    img_array /= 255.\n",
        "\n",
        "    predictions = loaded_model.predict(img_array)[0]\n",
        "    class_labels = {'Bengal': 0, 'Domestic Shorthair': 1, 'Maine Coon': 2, 'Ragdoll': 3, 'Siamese': 4}  # Sesuaikan dengan kelas yang digunakan\n",
        "    inv_class_labels = {v: k for k, v in class_labels.items()}\n",
        "\n",
        "    # Menampilkan hasil prediksi dalam bentuk persentase\n",
        "    for label, score in zip(inv_class_labels.values(), predictions):\n",
        "        print(f\"{label}: {score * 100:.2f}%\")\n",
        "\n",
        "# Contoh penggunaan\n",
        "predict_cat('/content/Screenshot 2023-12-13 235720.png')"
      ],
      "metadata": {
        "colab": {
          "base_uri": "https://localhost:8080/"
        },
        "id": "wQhKJXMq7Vlx",
        "outputId": "8a50e644-c922-436e-ccd7-43c15b86ac29"
      },
      "execution_count": 16,
      "outputs": [
        {
          "output_type": "stream",
          "name": "stdout",
          "text": [
            "1/1 [==============================] - 1s 1s/step\n",
            "Bengal: 0.53%\n",
            "Domestic Shorthair: 7.46%\n",
            "Maine Coon: 7.34%\n",
            "Ragdoll: 81.19%\n",
            "Siamese: 3.47%\n"
          ]
        }
      ]
    },
    {
      "cell_type": "code",
      "source": [
        "import tensorflow as tf\n",
        "from tensorflow.keras.preprocessing import image\n",
        "import numpy as np\n",
        "\n",
        "# Memuat Model dari File h5\n",
        "loaded_model = tf.keras.models.load_model('/content/Model_meowfinder.h5')\n",
        "\n",
        "# Fungsi untuk prediksi dengan output persentase\n",
        "def predict_cat(image_path):\n",
        "    img = image.load_img(image_path, target_size=(200, 300))\n",
        "    img_array = image.img_to_array(img)\n",
        "    img_array = np.expand_dims(img_array, axis=0)\n",
        "    img_array /= 255.\n",
        "\n",
        "    predictions = loaded_model.predict(img_array)[0]\n",
        "    class_labels = {'Bengal': 0, 'Domestic Shorthair': 1, 'Maine Coon': 2, 'Ragdoll': 3, 'Siamese': 4}  # Sesuaikan dengan kelas yang digunakan\n",
        "    inv_class_labels = {v: k for k, v in class_labels.items()}\n",
        "\n",
        "    # Menampilkan hasil prediksi dalam bentuk persentase\n",
        "    for label, score in zip(inv_class_labels.values(), predictions):\n",
        "        print(f\"{label}: {score * 100:.2f}%\")\n",
        "\n",
        "# Contoh penggunaan\n",
        "predict_cat('/content/Screenshot 2023-12-13 235934.png')"
      ],
      "metadata": {
        "colab": {
          "base_uri": "https://localhost:8080/"
        },
        "id": "qcuI9gBL7d0C",
        "outputId": "fecff4b1-6e2d-48e1-c207-ecca797f9711"
      },
      "execution_count": 17,
      "outputs": [
        {
          "output_type": "stream",
          "name": "stdout",
          "text": [
            "1/1 [==============================] - 1s 1s/step\n",
            "Bengal: 15.19%\n",
            "Domestic Shorthair: 80.30%\n",
            "Maine Coon: 0.56%\n",
            "Ragdoll: 0.20%\n",
            "Siamese: 3.75%\n"
          ]
        }
      ]
    },
    {
      "cell_type": "code",
      "source": [
        "import tensorflow as tf\n",
        "from tensorflow.keras.preprocessing import image\n",
        "import numpy as np\n",
        "\n",
        "# Memuat Model dari File h5\n",
        "loaded_model = tf.keras.models.load_model('/content/Model_meowfinder.h5')\n",
        "\n",
        "# Fungsi untuk prediksi dengan output persentase\n",
        "def predict_cat(image_path):\n",
        "    img = image.load_img(image_path, target_size=(200, 300))\n",
        "    img_array = image.img_to_array(img)\n",
        "    img_array = np.expand_dims(img_array, axis=0)\n",
        "    img_array /= 255.\n",
        "\n",
        "    predictions = loaded_model.predict(img_array)[0]\n",
        "    class_labels = {'Bengal': 0, 'Domestic Shorthair': 1, 'Maine Coon': 2, 'Ragdoll': 3, 'Siamese': 4}  # Sesuaikan dengan kelas yang digunakan\n",
        "    inv_class_labels = {v: k for k, v in class_labels.items()}\n",
        "\n",
        "    # Menampilkan hasil prediksi dalam bentuk persentase\n",
        "    for label, score in zip(inv_class_labels.values(), predictions):\n",
        "        print(f\"{label}: {score * 100:.2f}%\")\n",
        "\n",
        "# Contoh penggunaan\n",
        "predict_cat('/content/Screenshot 2023-12-14 000215.png')"
      ],
      "metadata": {
        "colab": {
          "base_uri": "https://localhost:8080/"
        },
        "id": "3DuCrbqJ7rJd",
        "outputId": "0324d2ca-059c-4383-f850-03eb273d01c7"
      },
      "execution_count": 18,
      "outputs": [
        {
          "output_type": "stream",
          "name": "stdout",
          "text": [
            "1/1 [==============================] - 1s 1s/step\n",
            "Bengal: 0.10%\n",
            "Domestic Shorthair: 0.67%\n",
            "Maine Coon: 0.02%\n",
            "Ragdoll: 12.64%\n",
            "Siamese: 86.56%\n"
          ]
        }
      ]
    },
    {
      "cell_type": "code",
      "source": [
        "import os\n",
        "\n",
        "file_path = '/content/Model_meowfinder.h5'\n",
        "\n",
        "if os.path.exists(file_path):\n",
        "    file_size = os.path.getsize(file_path)\n",
        "    print(f\"Ukuran file: {file_size} bytes\")\n",
        "else:\n",
        "    print(\"File tidak ditemukan.\")\n"
      ],
      "metadata": {
        "colab": {
          "base_uri": "https://localhost:8080/"
        },
        "id": "LNsW4DxefEv9",
        "outputId": "0d1e1d2b-91d5-44fb-e32c-a2f6a6f5e904"
      },
      "execution_count": 12,
      "outputs": [
        {
          "output_type": "stream",
          "name": "stdout",
          "text": [
            "Ukuran file: 85322080 bytes\n"
          ]
        }
      ]
    }
  ]
}